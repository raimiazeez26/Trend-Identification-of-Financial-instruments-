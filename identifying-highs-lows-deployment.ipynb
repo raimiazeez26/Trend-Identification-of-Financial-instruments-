{
 "cells": [
  {
   "cell_type": "code",
   "execution_count": 1,
   "metadata": {
    "_cell_guid": "b1076dfc-b9ad-4769-8c92-a6c4dae69d19",
    "_uuid": "8f2839f25d086af736a60e9eeb907d3b93b6e0e5",
    "execution": {
     "iopub.execute_input": "2022-06-21T12:47:15.530015Z",
     "iopub.status.busy": "2022-06-21T12:47:15.529478Z",
     "iopub.status.idle": "2022-06-21T12:47:15.569741Z",
     "shell.execute_reply": "2022-06-21T12:47:15.568717Z",
     "shell.execute_reply.started": "2022-06-21T12:47:15.529894Z"
    }
   },
   "outputs": [],
   "source": [
    "# This Python 3 environment comes with many helpful analytics libraries installed\n",
    "# It is defined by the kaggle/python Docker image: https://github.com/kaggle/docker-python\n",
    "# For example, here's several helpful packages to load\n",
    "\n",
    "import numpy as np # linear algebra\n",
    "import pandas as pd # data processing, CSV file I/O (e.g. pd.read_csv)\n",
    "\n",
    "# Input data files are available in the read-only \"../input/\" directory\n",
    "# For example, running this (by clicking run or pressing Shift+Enter) will list all files under the input directory\n",
    "\n",
    "import os\n",
    "for dirname, _, filenames in os.walk('/kaggle/input'):\n",
    "    for filename in filenames:\n",
    "        print(os.path.join(dirname, filename))\n",
    "\n",
    "# You can write up to 20GB to the current directory (/kaggle/working/) that gets preserved as output when you create a version using \"Save & Run All\" \n",
    "# You can also write temporary files to /kaggle/temp/, but they won't be saved outside of the current session"
   ]
  },
  {
   "cell_type": "code",
   "execution_count": 2,
   "metadata": {
    "execution": {
     "iopub.execute_input": "2022-06-21T12:47:15.572440Z",
     "iopub.status.busy": "2022-06-21T12:47:15.572187Z",
     "iopub.status.idle": "2022-06-21T12:48:41.730096Z",
     "shell.execute_reply": "2022-06-21T12:48:41.729271Z",
     "shell.execute_reply.started": "2022-06-21T12:47:15.572409Z"
    }
   },
   "outputs": [],
   "source": [
    "\"\"\"!pip install yfinance\n",
    "!pip install finta\n",
    "!pip install chart_studio\n",
    "!pip install --upgrade ta\n",
    "!pip install pyngrok\n",
    "!pip install flask-ngrok\n",
    "!pip install flask\"\"\"\n",
    "\n",
    "!ngrok authtoken \"28adn3vL54F2hMApqXFZd9AztRA_VCTWGyLZjXXdhN4u7h8J\""
   ]
  },
  {
   "cell_type": "code",
   "execution_count": 3,
   "metadata": {
    "execution": {
     "iopub.execute_input": "2022-06-21T12:48:41.731596Z",
     "iopub.status.busy": "2022-06-21T12:48:41.731333Z",
     "iopub.status.idle": "2022-06-21T12:48:45.656796Z",
     "shell.execute_reply": "2022-06-21T12:48:45.655822Z",
     "shell.execute_reply.started": "2022-06-21T12:48:41.731558Z"
    }
   },
   "outputs": [],
   "source": [
    "import yfinance as yf\n",
    "import seaborn as sns\n",
    "#from yahoo_fin import stock_info\n",
    "import datetime\n",
    "import pandas as pd\n",
    "import numpy as np\n",
    "from finta import TA\n",
    "from ta import add_all_ta_features\n",
    "from ta.utils import dropna\n",
    "import matplotlib.pyplot as plt\n",
    "from scipy.signal import argrelextrema\n",
    "\n",
    "\n",
    "import chart_studio.plotly as py\n",
    "from plotly.graph_objs import * \n",
    "import plotly.tools as tls\n",
    "import chart_studio.tools as ctls\n",
    "from sklearn.metrics import mean_absolute_error, r2_score, mean_squared_error\n",
    "\n",
    "#from yahoo_fin import stock_info\n",
    "from plotly.offline import plot, init_notebook_mode\n",
    "init_notebook_mode()\n",
    "import cufflinks as cf\n",
    "cf.set_config_file(offline=True)\n",
    "\n",
    "import json\n",
    "import plotly\n",
    "import plotly.express as px\n",
    "import plotly.graph_objects as go\n",
    "\n",
    "import logging\n",
    "logging.getLogger().setLevel(logging.ERROR)\n",
    "\n",
    "#importing the required libraries for deployment\n",
    "from flask import Flask, render_template, request, redirect, url_for\n",
    "from joblib import load\n",
    "from flask_ngrok import run_with_ngrok\n",
    "#from get_tweets import get_related_tweets\n",
    "from logging import FileHandler,WARNING\n",
    "\n",
    "%matplotlib inline"
   ]
  },
  {
   "cell_type": "markdown",
   "metadata": {},
   "source": [
    "# Get Stock Data"
   ]
  },
  {
   "cell_type": "code",
   "execution_count": 5,
   "metadata": {
    "execution": {
     "iopub.execute_input": "2022-06-21T12:48:45.672897Z",
     "iopub.status.busy": "2022-06-21T12:48:45.672138Z",
     "iopub.status.idle": "2022-06-21T12:48:45.682243Z",
     "shell.execute_reply": "2022-06-21T12:48:45.681385Z",
     "shell.execute_reply.started": "2022-06-21T12:48:45.672846Z"
    }
   },
   "outputs": [],
   "source": [
    "# get stock data\n",
    "def get_stock_data(stock):\n",
    "    global df, symbol\n",
    "    NUM_DAYS = 729  # The number of days of historical data to retrieve\n",
    "    INTERVAL = '1h'     # Sample rate of historical data\n",
    "    symbol = str(stock)  #str(input(\"Please enter stock symbol: \"))     # Symbol of the desired stock\n",
    "\n",
    "    #define start & dates\n",
    "    start = (datetime.date.today() - datetime.timedelta( NUM_DAYS ) )\n",
    "    end = datetime.datetime.today()\n",
    "    \n",
    "    #pull data\n",
    "    df = yf.download(symbol, start=start, end=end, interval = INTERVAL)\n",
    "    df.drop([\"Adj Close\", \"Volume\"], axis = 1, inplace = True)\n",
    "    df.index.name = \"time\"\n",
    "    #df.reset_index(inplace = True)\n",
    "    #df.rename(columns = {\"index\" : \"time\"}, inplace = True)\n",
    "    #df = df.set_index(pd.to_datetime(df[\"time\"]))\n",
    "    #df.drop([\"time\"], axis = 1, inplace = True)\n",
    "    return df"
   ]
  },
  {
   "cell_type": "code",
   "execution_count": 6,
   "metadata": {
    "execution": {
     "iopub.execute_input": "2022-06-21T12:48:45.684207Z",
     "iopub.status.busy": "2022-06-21T12:48:45.683591Z",
     "iopub.status.idle": "2022-06-21T12:48:47.507966Z",
     "shell.execute_reply": "2022-06-21T12:48:47.507196Z",
     "shell.execute_reply.started": "2022-06-21T12:48:45.684175Z"
    }
   },
   "outputs": [],
   "source": [
    "df = get_stock_data(\"AUDUSD=X\")\n",
    "df.index = df.index.tz_localize(None)\n",
    "df"
   ]
  },
  {
   "cell_type": "markdown",
   "metadata": {},
   "source": [
    "# Get High_Low Positions"
   ]
  },
  {
   "cell_type": "code",
   "execution_count": 7,
   "metadata": {
    "execution": {
     "iopub.execute_input": "2022-06-21T12:48:47.509385Z",
     "iopub.status.busy": "2022-06-21T12:48:47.509147Z",
     "iopub.status.idle": "2022-06-21T12:48:47.520746Z",
     "shell.execute_reply": "2022-06-21T12:48:47.519733Z",
     "shell.execute_reply.started": "2022-06-21T12:48:47.509354Z"
    }
   },
   "outputs": [],
   "source": [
    "#get High and low positions\n",
    "def get_max_min(prices, smoothing, window_range):\n",
    "    smooth_prices = prices['Close'].rolling(window=smoothing).mean().dropna()\n",
    "    local_max = argrelextrema(smooth_prices.values, np.greater)[0]\n",
    "    local_min = argrelextrema(smooth_prices.values, np.less)[0]\n",
    "    price_local_max_dt = []\n",
    "    for i in local_max:\n",
    "        if (i>window_range) and (i<len(prices)-window_range):\n",
    "            price_local_max_dt.append(prices.iloc[i-window_range:i+window_range]['Close'].idxmax())\n",
    "    price_local_min_dt = []\n",
    "    for i in local_min:\n",
    "        if (i>window_range) and (i<len(prices)-window_range):\n",
    "            price_local_min_dt.append(prices.iloc[i-window_range:i+window_range]['Close'].idxmin())  \n",
    "    maxima = pd.DataFrame(prices.loc[price_local_max_dt])\n",
    "    minima = pd.DataFrame(prices.loc[price_local_min_dt])\n",
    "    max_min = pd.concat([maxima, minima]).sort_index()\n",
    "    max_min.index.name = \"date\"\n",
    "    max_min = max_min.reset_index()\n",
    "    max_min = max_min[~max_min.date.duplicated()]\n",
    "    p = prices.reset_index() \n",
    "    max_min['day_num'] = p[p['time'].isin(max_min.date)].index.values\n",
    "    max_min = max_min.set_index('day_num')['Close']\n",
    "    \n",
    "    return max_min\n"
   ]
  },
  {
   "cell_type": "code",
   "execution_count": 8,
   "metadata": {
    "execution": {
     "iopub.execute_input": "2022-06-21T12:48:47.522850Z",
     "iopub.status.busy": "2022-06-21T12:48:47.522303Z",
     "iopub.status.idle": "2022-06-21T12:48:47.853737Z",
     "shell.execute_reply": "2022-06-21T12:48:47.852743Z",
     "shell.execute_reply.started": "2022-06-21T12:48:47.522803Z"
    }
   },
   "outputs": [],
   "source": [
    "smoothing = 21\n",
    "window = 500\n",
    "\n",
    "minmax = get_max_min(df, smoothing, window)\n",
    "minmax"
   ]
  },
  {
   "cell_type": "markdown",
   "metadata": {},
   "source": [
    "# Create new dataframe"
   ]
  },
  {
   "cell_type": "code",
   "execution_count": 9,
   "metadata": {
    "execution": {
     "iopub.execute_input": "2022-06-21T12:48:47.856814Z",
     "iopub.status.busy": "2022-06-21T12:48:47.856555Z",
     "iopub.status.idle": "2022-06-21T12:48:47.879392Z",
     "shell.execute_reply": "2022-06-21T12:48:47.878799Z",
     "shell.execute_reply.started": "2022-06-21T12:48:47.856782Z"
    }
   },
   "outputs": [],
   "source": [
    "#Create new dataframe\n",
    "res = df.copy()\n",
    "res = res.reset_index()\n",
    "res[\"minmax\"] = minmax\n",
    "res = res.set_index(\"time\")\n",
    "res"
   ]
  },
  {
   "cell_type": "code",
   "execution_count": 10,
   "metadata": {
    "execution": {
     "iopub.execute_input": "2022-06-21T12:48:47.882146Z",
     "iopub.status.busy": "2022-06-21T12:48:47.881798Z",
     "iopub.status.idle": "2022-06-21T12:48:47.902254Z",
     "shell.execute_reply": "2022-06-21T12:48:47.901374Z",
     "shell.execute_reply.started": "2022-06-21T12:48:47.882115Z"
    }
   },
   "outputs": [],
   "source": [
    "res.dropna()"
   ]
  },
  {
   "cell_type": "markdown",
   "metadata": {},
   "source": [
    "# Plot 1"
   ]
  },
  {
   "cell_type": "code",
   "execution_count": 11,
   "metadata": {
    "execution": {
     "iopub.execute_input": "2022-06-21T12:48:47.903821Z",
     "iopub.status.busy": "2022-06-21T12:48:47.903527Z",
     "iopub.status.idle": "2022-06-21T12:48:48.461631Z",
     "shell.execute_reply": "2022-06-21T12:48:48.460640Z",
     "shell.execute_reply.started": "2022-06-21T12:48:47.903780Z"
    }
   },
   "outputs": [],
   "source": [
    "plt.figure(figsize = [20, 7])\n",
    "res[\"Close\"].plot()\n",
    "#df.reset_index()[\"Close\"].plot()\n",
    "#plt.scatter(minmax.index, minmax.values, color = \"red\", alpha = .5)\n",
    "res[\"minmax\"].plot(linestyle='dotted', linewidth=1, marker='o')"
   ]
  },
  {
   "cell_type": "markdown",
   "metadata": {},
   "source": [
    "# Plot 2"
   ]
  },
  {
   "cell_type": "code",
   "execution_count": 12,
   "metadata": {
    "execution": {
     "iopub.execute_input": "2022-06-21T12:48:48.463632Z",
     "iopub.status.busy": "2022-06-21T12:48:48.463293Z",
     "iopub.status.idle": "2022-06-21T12:48:48.472107Z",
     "shell.execute_reply": "2022-06-21T12:48:48.471112Z",
     "shell.execute_reply.started": "2022-06-21T12:48:48.463586Z"
    }
   },
   "outputs": [],
   "source": [
    "\"\"\"\n",
    "fig = go.Figure(data=[go.Candlestick(x=df.index,\n",
    "                    open=df['Open'],\n",
    "                    high=df['High'],\n",
    "                    low=df['Low'],\n",
    "                    close=df['Close'])])\n",
    "fig.add_trace(go.Scatter(x=res.index, y= result[\"minmax\"].interpolate(),\n",
    "                      line={'color':'blue', 'width':1},     \n",
    "                      mode='lines',\n",
    "                      name='high-low'))\n",
    "fig.add_trace(\n",
    "        go.Scatter(mode = \"markers\",\n",
    "            x=result.index,\n",
    "            y=result.minmax\n",
    "        ))\n",
    "\n",
    "fig.update_xaxes(\n",
    "        rangebreaks=[\n",
    "            dict(bounds=[\"sat\", \"mon\"]), #hide weekends\n",
    "            #dict(values=[\"2015-12-25\", \"2016-01-01\"])  # hide Christmas and New Year's\n",
    "        ]\n",
    "    )\n",
    "\n",
    "fig.update_layout(title=f'HIGH_LOW plot of {symbol}',\n",
    "                   xaxis_title='index',\n",
    "                   yaxis_title='Price',\n",
    "                  xaxis_rangeslider_visible=False)\n",
    "\n",
    "fig.show()\n",
    "\"\"\""
   ]
  },
  {
   "cell_type": "markdown",
   "metadata": {},
   "source": [
    "# Automate - Identifying Highs & Lows"
   ]
  },
  {
   "cell_type": "code",
   "execution_count": 13,
   "metadata": {
    "execution": {
     "iopub.execute_input": "2022-06-21T12:48:48.474674Z",
     "iopub.status.busy": "2022-06-21T12:48:48.474051Z",
     "iopub.status.idle": "2022-06-21T12:48:49.686750Z",
     "shell.execute_reply": "2022-06-21T12:48:49.685803Z",
     "shell.execute_reply.started": "2022-06-21T12:48:48.474625Z"
    }
   },
   "outputs": [],
   "source": [
    "def get_highs_lows(instrument, window):\n",
    "    #get stock data\n",
    "    def get_stock_data():\n",
    "        global df, symbol\n",
    "        NUM_DAYS = 30 # The number of days of historical data to retrieve\n",
    "        INTERVAL = '1h'     # Sample rate of historical data\n",
    "        symbol = str(instrument) #str(input(\"Please enter stock symbol: \"))   #str(stock)  # Symbol of the desired stock\n",
    "\n",
    "        #define start & dates\n",
    "        start = (datetime.date.today() - datetime.timedelta( NUM_DAYS ) )\n",
    "        end = datetime.datetime.today()\n",
    "\n",
    "        #pull data\n",
    "        df = yf.download(symbol, start=start, end=end, interval = INTERVAL)\n",
    "        df.drop([\"Adj Close\", \"Volume\"], axis = 1, inplace = True)\n",
    "        df.index = df.index.tz_localize(None)\n",
    "        df.index.name = \"time\"\n",
    "        #df.reset_index(inplace = True)\n",
    "        #df.rename(columns = {\"index\" : \"time\"}, inplace = True)\n",
    "        #df = df.set_index(pd.to_datetime(df[\"time\"]))\n",
    "        #df.drop([\"time\"], axis = 1, inplace = True)\n",
    "        return df\n",
    "    \n",
    "    get_stock_data()\n",
    "\n",
    "\n",
    "    #get High and low positions\n",
    "    def get_max_min(prices, window):\n",
    "        global max_min, maxmin\n",
    "        smoothing = 21 #int(input(\"Please enter SMA: \")) #Gold - (5, 100)\n",
    "        window_range = window #int(input(\"Please enter Lookback window: \"))\n",
    "\n",
    "        smooth_prices = prices['Close'].rolling(window=smoothing).mean().dropna()\n",
    "        local_max = argrelextrema(smooth_prices.values, np.greater)[0]\n",
    "        local_min = argrelextrema(smooth_prices.values, np.less)[0]\n",
    "        price_local_max_dt = []\n",
    "        for i in local_max:\n",
    "            if (i>window_range) and (i<len(prices)-window_range):\n",
    "                price_local_max_dt.append(prices.iloc[i-window_range:i+window_range]['Close'].idxmax())\n",
    "        price_local_min_dt = []\n",
    "        for i in local_min:\n",
    "            if (i>window_range) and (i<len(prices)-window_range):\n",
    "                price_local_min_dt.append(prices.iloc[i-window_range:i+window_range]['Close'].idxmin())  \n",
    "        maxima = pd.DataFrame(prices.loc[price_local_max_dt])\n",
    "        minima = pd.DataFrame(prices.loc[price_local_min_dt])\n",
    "        max_min = pd.concat([maxima, minima]).sort_index()\n",
    "        max_min.index.name = \"date\"\n",
    "        max_min = max_min.reset_index()\n",
    "        max_min = max_min[~max_min.date.duplicated()]\n",
    "        p = prices.reset_index() \n",
    "        max_min['day_num'] = p[p['time'].isin(max_min.date)].index.values\n",
    "        max_min = max_min.set_index('day_num')['Close']\n",
    "        \n",
    "        #print(max_min)\n",
    "        return max_min\n",
    "    maxmin = get_max_min(df, window)\n",
    "    \n",
    "    #Create new dataframe\n",
    "    res = df.copy()\n",
    "    res = res.reset_index()\n",
    "    res[\"maxmin\"] = maxmin\n",
    "    res = res.set_index(\"time\", drop = True)\n",
    "    res\n",
    "    \n",
    "    \"\"\"\"\n",
    "    #Plot result\n",
    "    plt.figure(figsize = [20, 7])\n",
    "    plt.title(f\"HIGH-LOW plot for {symbol}\")\n",
    "    res[\"Close\"].plot()\n",
    "    #df.reset_index()[\"Close\"].plot()\n",
    "    #plt.scatter(minmax.index, minmax.values, color = \"red\", alpha = .5)\n",
    "    res[\"maxmin\"].plot(linestyle='dashed', linewidth=1, marker='o')\n",
    "    \n",
    "    \"\"\"\n",
    "    \n",
    "    def plot(res):\n",
    "        global fig, graphJSON\n",
    "        fig = go.Figure(data=[go.Candlestick(x=res.index,\n",
    "                    open=res['Open'],\n",
    "                    high=res['High'],\n",
    "                    low=res['Low'],\n",
    "                    close=res['Close'])])\n",
    "        fig.add_trace(go.Scatter(x=res.index, y= res[\"maxmin\"].interpolate(),\n",
    "                      line={'color':'blue', 'width':1},     \n",
    "                      mode='lines',\n",
    "                      name='high-low'))\n",
    "        fig.add_trace(\n",
    "            go.Scatter(mode = \"markers\",\n",
    "            x=res.index,\n",
    "            y=res.maxmin\n",
    "            ))\n",
    "\n",
    "        fig.update_xaxes(\n",
    "            rangebreaks=[\n",
    "            dict(bounds=[\"sat\", \"mon\"]), #hide weekends\n",
    "            #dict(values=[\"2015-12-25\", \"2016-01-01\"])  # hide Christmas and New Year's\n",
    "            ]\n",
    "        )\n",
    "\n",
    "        fig.update_layout(title=f'HIGH_LOW plot of {symbol}',\n",
    "                   xaxis_title='Date',\n",
    "                   yaxis_title='Price',\n",
    "                   xaxis_rangeslider_visible=False)\n",
    "\n",
    "        fig.show()\n",
    "        \n",
    "        graphJSON = json.dumps(fig, cls=plotly.utils.PlotlyJSONEncoder)\n",
    "    \n",
    "    plot(res)\n",
    "\n",
    "    #py.plot(fig, filename = 'XAU ATR Hour Prediction Plot', auto_open = False)\n",
    "\n",
    "get_highs_lows(\"EURUSD=X\", 100)\n"
   ]
  },
  {
   "cell_type": "code",
   "execution_count": 15,
   "metadata": {
    "execution": {
     "iopub.execute_input": "2022-06-21T12:48:49.694585Z",
     "iopub.status.busy": "2022-06-21T12:48:49.694329Z",
     "iopub.status.idle": "2022-06-21T12:48:50.817839Z",
     "shell.execute_reply": "2022-06-21T12:48:50.816818Z",
     "shell.execute_reply.started": "2022-06-21T12:48:49.694553Z"
    }
   },
   "outputs": [],
   "source": [
    "get_highs_lows(\"AUDCHF=X\", 21)"
   ]
  },
  {
   "cell_type": "code",
   "execution_count": null,
   "metadata": {},
   "outputs": [],
   "source": []
  },
  {
   "cell_type": "code",
   "execution_count": null,
   "metadata": {},
   "outputs": [],
   "source": []
  },
  {
   "cell_type": "markdown",
   "metadata": {},
   "source": [
    "## FLASK DEPLOYMENT"
   ]
  },
  {
   "cell_type": "code",
   "execution_count": 16,
   "metadata": {
    "execution": {
     "iopub.execute_input": "2022-06-21T12:48:50.819551Z",
     "iopub.status.busy": "2022-06-21T12:48:50.819303Z",
     "iopub.status.idle": "2022-06-21T12:48:52.465817Z",
     "shell.execute_reply": "2022-06-21T12:48:52.464750Z",
     "shell.execute_reply.started": "2022-06-21T12:48:50.819520Z"
    }
   },
   "outputs": [],
   "source": [
    "import os\n",
    "import threading\n",
    "\n",
    "from flask import Flask\n",
    "from pyngrok import ngrok\n",
    "\n",
    "# Open a HTTP tunnel on the default port 80\n",
    "public_url = ngrok.connect(port = '4040')\n",
    "\n",
    "os.environ[\"FLASK_ENV\"] = \"development\"\n",
    "\n",
    "app = Flask(__name__, template_folder = \"../input/templates\")\n",
    "port = 5000\n",
    "\n",
    "# Open a ngrok tunnel to the HTTP server\n",
    "public_url = ngrok.connect(port).public_url\n",
    "print(\" * ngrok tunnel \\\"{}\\\" -> \\\"http://127.0.0.1:{}\\\"\".format(public_url, port))\n",
    "\n",
    "# Update any base URLs to use the public ngrok URL\n",
    "app.config[\"BASE_URL\"] = public_url\n",
    "\n",
    "# ... Update inbound traffic via APIs to use the public-facing ngrok URL\n",
    "\n",
    "\n",
    "\n",
    "# Define Flask routes\n",
    "# render default webpage\n",
    "@app.route('/')\n",
    "def home():\n",
    "    return render_template('multiple button.html')\n",
    "\n",
    "# when the post method detect, then redirect to success function\n",
    "@app.route('/', methods=['POST', 'GET'])\n",
    "def get_data():\n",
    "    global inst, wind\n",
    "    if request.method == 'POST':\n",
    "        inst = request.form['Iname']\n",
    "        wind = int(request.form['window'])\n",
    "        return redirect(url_for('success', name=inst))\n",
    "    else:\n",
    "      return render_template('multiple button.html')\n",
    "\n",
    "# get the data for the requested query\n",
    "@app.route('/success/<name>')\n",
    "def success(name):\n",
    "    stock_name = str(inst)\n",
    "    get_highs_lows(stock_name, wind)\n",
    "    \n",
    "    #return redirect(url_for('success', name=stop, variable = lot))\n",
    "    return render_template(\"highs lows.html\", graphJSON=graphJSON)"
   ]
  },
  {
   "cell_type": "code",
   "execution_count": 17,
   "metadata": {
    "execution": {
     "iopub.execute_input": "2022-06-21T12:48:52.467743Z",
     "iopub.status.busy": "2022-06-21T12:48:52.467459Z",
     "iopub.status.idle": "2022-06-21T12:48:52.477021Z",
     "shell.execute_reply": "2022-06-21T12:48:52.474871Z",
     "shell.execute_reply.started": "2022-06-21T12:48:52.467710Z"
    }
   },
   "outputs": [],
   "source": [
    "# Start the Flask server in a new thread\n",
    "threading.Thread(target=app.run, kwargs={\"use_reloader\": False}).start()"
   ]
  },
  {
   "cell_type": "code",
   "execution_count": 18,
   "metadata": {
    "execution": {
     "iopub.execute_input": "2022-06-21T12:48:52.478891Z",
     "iopub.status.busy": "2022-06-21T12:48:52.478552Z",
     "iopub.status.idle": "2022-06-21T12:48:52.707565Z",
     "shell.execute_reply": "2022-06-21T12:48:52.706581Z",
     "shell.execute_reply.started": "2022-06-21T12:48:52.478846Z"
    }
   },
   "outputs": [],
   "source": [
    "stop"
   ]
  },
  {
   "cell_type": "code",
   "execution_count": null,
   "metadata": {
    "execution": {
     "iopub.status.busy": "2022-06-21T12:48:52.708510Z",
     "iopub.status.idle": "2022-06-21T12:48:52.709371Z",
     "shell.execute_reply": "2022-06-21T12:48:52.709169Z",
     "shell.execute_reply.started": "2022-06-21T12:48:52.709146Z"
    }
   },
   "outputs": [],
   "source": [
    "ngrok.kill()"
   ]
  },
  {
   "cell_type": "code",
   "execution_count": null,
   "metadata": {},
   "outputs": [],
   "source": []
  }
 ],
 "metadata": {
  "kernelspec": {
   "display_name": "Python 3 (ipykernel)",
   "language": "python",
   "name": "python3"
  },
  "language_info": {
   "codemirror_mode": {
    "name": "ipython",
    "version": 3
   },
   "file_extension": ".py",
   "mimetype": "text/x-python",
   "name": "python",
   "nbconvert_exporter": "python",
   "pygments_lexer": "ipython3",
   "version": "3.9.7"
  }
 },
 "nbformat": 4,
 "nbformat_minor": 4
}
